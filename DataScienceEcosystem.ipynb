{
 "cells": [
  {
   "cell_type": "markdown",
   "id": "d3250d54-f6dd-41fa-a29e-cb7e6a96ba0a",
   "metadata": {},
   "source": [
    "# Data Science Tools and Ecosystem\n"
   ]
  },
  {
   "cell_type": "markdown",
   "id": "79c3c367-2642-43bb-ae20-e8487d47b2e6",
   "metadata": {},
   "source": [
    "## Author\n",
    "Steven Ravary"
   ]
  },
  {
   "cell_type": "markdown",
   "id": "8e799b78-86ab-498d-a6c7-bacb352a0386",
   "metadata": {},
   "source": [
    "In this notebook, Data Science Tools and Ecosystem are summarized."
   ]
  },
  {
   "cell_type": "markdown",
   "id": "abf6498a-40fc-4697-bee4-0ce237fe02dc",
   "metadata": {},
   "source": [
    "Objectives:\n",
    "* Learn how to make ordered lists in a Jupyter Notebook\n",
    "* Learn how to make unordered lists in a Jupyter Notebook\n",
    "* Learn how to make tables in a Jupyter Notebook\n",
    "* Learn how to process basic arithmetic in a Jupyter Notebook"
   ]
  },
  {
   "cell_type": "markdown",
   "id": "49b1a952-7d55-46bd-8ba9-4da781133622",
   "metadata": {
    "scrolled": true
   },
   "source": [
    "Some of the popular languages that Data Scientists use are:\n",
    "1. Julia\n",
    "2. Python\n",
    "3. R"
   ]
  },
  {
   "cell_type": "markdown",
   "id": "f56c0b65-2fa9-4848-bd5c-2fda5a1e3633",
   "metadata": {},
   "source": [
    "Some of the commonly used libraries used by Data Scientists include:\n",
    "1. Numpy\n",
    "2. Pandas\n",
    "3. Matplotlib\n",
    "4. Scikit-learn"
   ]
  },
  {
   "cell_type": "markdown",
   "id": "6bf45543-b9b6-4451-a903-5de41182693a",
   "metadata": {},
   "source": [
    "| Data Science Tools |\n",
    "----------------------\n",
    "| Visual Studio      |\n",
    "| Jupyter Lab        |\n",
    "| RStudio            |\n",
    "----------------------"
   ]
  },
  {
   "cell_type": "markdown",
   "id": "0df23da7-f243-45bb-b212-fd2756c12bd1",
   "metadata": {},
   "source": [
    "### Below are a few examples of evaluating arithmetic expressions in Python"
   ]
  },
  {
   "cell_type": "markdown",
   "id": "99ae5a5a-be93-48d9-bc39-d57a07d3c260",
   "metadata": {},
   "source": [
    "This a simple arithmetic expression to mutiply then add integers"
   ]
  },
  {
   "cell_type": "code",
   "execution_count": 29,
   "id": "96eb7301-6337-4ff3-bafc-c187f8226da6",
   "metadata": {},
   "outputs": [
    {
     "data": {
      "text/plain": [
       "17"
      ]
     },
     "execution_count": 29,
     "metadata": {},
     "output_type": "execute_result"
    }
   ],
   "source": [
    "(3*4)+5"
   ]
  },
  {
   "cell_type": "markdown",
   "id": "c3b92d7f-05f9-462c-b014-5aef8a5c9564",
   "metadata": {},
   "source": [
    "This will convert 200 minutes to hours by dividing by 60"
   ]
  },
  {
   "cell_type": "code",
   "execution_count": 32,
   "id": "38fbc07f-262a-4de4-a213-3baf77e1cdaa",
   "metadata": {},
   "outputs": [
    {
     "data": {
      "text/plain": [
       "3.3333333333333335"
      ]
     },
     "execution_count": 32,
     "metadata": {},
     "output_type": "execute_result"
    }
   ],
   "source": [
    "200/60"
   ]
  },
  {
   "cell_type": "code",
   "execution_count": null,
   "id": "2f04a05d-6907-444f-a5eb-e502d9afa9a2",
   "metadata": {},
   "outputs": [],
   "source": []
  }
 ],
 "metadata": {
  "kernelspec": {
   "display_name": "Python 3 (ipykernel)",
   "language": "python",
   "name": "python3"
  },
  "language_info": {
   "codemirror_mode": {
    "name": "ipython",
    "version": 3
   },
   "file_extension": ".py",
   "mimetype": "text/x-python",
   "name": "python",
   "nbconvert_exporter": "python",
   "pygments_lexer": "ipython3",
   "version": "3.11.7"
  }
 },
 "nbformat": 4,
 "nbformat_minor": 5
}
